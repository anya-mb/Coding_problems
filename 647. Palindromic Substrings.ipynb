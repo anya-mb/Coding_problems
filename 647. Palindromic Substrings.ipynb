{
 "cells": [
  {
   "cell_type": "markdown",
   "id": "f30df6a8",
   "metadata": {},
   "source": [
    "## 647. Palindromic Substrings\n",
    "\n",
    "Medium\n",
    "\n",
    "Given a string s, return the number of palindromic substrings in it.\n",
    "\n",
    "A string is a palindrome when it reads the same backward as forward.\n",
    "\n",
    "A substring is a contiguous sequence of characters within the string.\n",
    "\n",
    " \n",
    "\n",
    "### Example 1:\n",
    "\n",
    "Input: s = \"abc\"\n",
    "Output: 3\n",
    "Explanation: Three palindromic strings: \"a\", \"b\", \"c\".\n",
    "### Example 2:\n",
    "\n",
    "Input: s = \"aaa\"\n",
    "Output: 6\n",
    "Explanation: Six palindromic strings: \"a\", \"a\", \"a\", \"aa\", \"aa\", \"aaa\".\n",
    " \n",
    "\n",
    "Constraints:\n",
    "\n",
    "1 <= s.length <= 1000\n",
    "s consists of lowercase English letters."
   ]
  },
  {
   "cell_type": "code",
   "execution_count": 1,
   "id": "4f2af5c7",
   "metadata": {},
   "outputs": [],
   "source": [
    "class Solution:\n",
    "    def countSubstrings(self, s: str) -> int:\n",
    "        res = 0\n",
    "\n",
    "        for i in range(len(s)):\n",
    "            res += self.count_palindroms(s, i, i)\n",
    "            res += self.count_palindroms(s, i, i + 1)\n",
    "\n",
    "        return res\n",
    "\n",
    "    def count_palindroms(self, s, l, r):\n",
    "        result = 0\n",
    "        max_idx = len(s) - 1\n",
    "        \n",
    "        while (l >= 0) and (r <= max_idx) and (s[l] == s[r]):\n",
    "            l -= 1\n",
    "            r += 1\n",
    "            result += 1\n",
    "\n",
    "        return result"
   ]
  },
  {
   "cell_type": "markdown",
   "id": "6ee29a91",
   "metadata": {},
   "source": [
    "## Solution Description\n",
    "1. Method: The main function countSubstrings accepts a string s and returns the total count of palindromic substrings.\n",
    "2. Iterative Search: I iterate through each character of the string using a loop for i in range(len(s)). For each character index i, I try to find palindromic substrings centered at i (odd-length palindromes) and between i and i+1 (even-length palindromes).\n",
    "3. Palindrome Expansion: The helper method count_palindroms takes the string s and two indices, l (left) and r (right). It checks if the substring between these indices is a palindrome by expanding outwards while the characters at l and r are the same and the indices are within valid bounds.\n",
    "4. Counting: Each time a palindromic substring is identified by the helper method, it increments a local counter result until the condition fails (characters at l and r are different or l and r are out of bounds). The result of this method is the number of palindromic substrings that can be formed with the center at i or between i and i+1.\n",
    "5. Aggregation: All the counts returned by count_palindroms are summed up in the res variable, which is ultimately returned by the countSubstrings function.\n",
    "## Time Complexity\n",
    "The time complexity of my solution is O(n^2), where n is the length of the string. This arises because:\n",
    "\n",
    "* I iterate over each character of the string (O(n)).\n",
    "* For each character, the expansion in count_palindroms can potentially extend to the length of the string in the worst case, such as when the string is composed entirely of the same character (think \"aaaa...\"). Each palindrome expansion attempt involves comparing characters until the start or end of the string is reached.\n",
    "## Space Complexity\n",
    "The space complexity of my solution is O(1):\n",
    "\n",
    "* I only use a few auxiliary variables (res, result, l, r, max_idx) and do not allocate any additional structures dependent on the size of the input string. Thus, the space used does not scale with the size of the input.\n"
   ]
  }
 ],
 "metadata": {
  "kernelspec": {
   "display_name": "Python 3 (ipykernel)",
   "language": "python",
   "name": "python3"
  },
  "language_info": {
   "codemirror_mode": {
    "name": "ipython",
    "version": 3
   },
   "file_extension": ".py",
   "mimetype": "text/x-python",
   "name": "python",
   "nbconvert_exporter": "python",
   "pygments_lexer": "ipython3",
   "version": "3.10.9"
  }
 },
 "nbformat": 4,
 "nbformat_minor": 5
}
